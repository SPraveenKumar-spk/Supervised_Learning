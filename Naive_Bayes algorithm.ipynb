{
 "cells": [
  {
   "cell_type": "markdown",
   "id": "7db80977",
   "metadata": {},
   "source": [
    "Implementation of Naive_bayes algorithm\n",
    "\n",
    "Import the necessary packages like numpy,pandas,matplotlib"
   ]
  },
  {
   "cell_type": "code",
   "execution_count": 1,
   "id": "1a17330c",
   "metadata": {},
   "outputs": [],
   "source": [
    "import pandas as pd\n",
    "import numpy as np\n",
    "import matplotlib.pyplot as plt"
   ]
  },
  {
   "cell_type": "markdown",
   "id": "a3ebc37a",
   "metadata": {},
   "source": [
    "load the train and test datasets using pandas package"
   ]
  },
  {
   "cell_type": "code",
   "execution_count": 2,
   "id": "650fabcd",
   "metadata": {},
   "outputs": [
    {
     "data": {
      "text/html": [
       "<div>\n",
       "<style scoped>\n",
       "    .dataframe tbody tr th:only-of-type {\n",
       "        vertical-align: middle;\n",
       "    }\n",
       "\n",
       "    .dataframe tbody tr th {\n",
       "        vertical-align: top;\n",
       "    }\n",
       "\n",
       "    .dataframe thead th {\n",
       "        text-align: right;\n",
       "    }\n",
       "</style>\n",
       "<table border=\"1\" class=\"dataframe\">\n",
       "  <thead>\n",
       "    <tr style=\"text-align: right;\">\n",
       "      <th></th>\n",
       "      <th>PassengerId</th>\n",
       "      <th>Survived</th>\n",
       "      <th>Pclass</th>\n",
       "      <th>Name</th>\n",
       "      <th>Sex</th>\n",
       "      <th>Age</th>\n",
       "      <th>SibSp</th>\n",
       "      <th>Parch</th>\n",
       "      <th>Ticket</th>\n",
       "      <th>Fare</th>\n",
       "      <th>Cabin</th>\n",
       "      <th>Embarked</th>\n",
       "    </tr>\n",
       "  </thead>\n",
       "  <tbody>\n",
       "    <tr>\n",
       "      <th>0</th>\n",
       "      <td>1</td>\n",
       "      <td>0</td>\n",
       "      <td>3</td>\n",
       "      <td>Braund, Mr. Owen Harris</td>\n",
       "      <td>male</td>\n",
       "      <td>22.0</td>\n",
       "      <td>1</td>\n",
       "      <td>0</td>\n",
       "      <td>A/5 21171</td>\n",
       "      <td>7.2500</td>\n",
       "      <td>NaN</td>\n",
       "      <td>S</td>\n",
       "    </tr>\n",
       "    <tr>\n",
       "      <th>1</th>\n",
       "      <td>2</td>\n",
       "      <td>1</td>\n",
       "      <td>1</td>\n",
       "      <td>Cumings, Mrs. John Bradley (Florence Briggs Th...</td>\n",
       "      <td>female</td>\n",
       "      <td>38.0</td>\n",
       "      <td>1</td>\n",
       "      <td>0</td>\n",
       "      <td>PC 17599</td>\n",
       "      <td>71.2833</td>\n",
       "      <td>C85</td>\n",
       "      <td>C</td>\n",
       "    </tr>\n",
       "    <tr>\n",
       "      <th>2</th>\n",
       "      <td>3</td>\n",
       "      <td>1</td>\n",
       "      <td>3</td>\n",
       "      <td>Heikkinen, Miss. Laina</td>\n",
       "      <td>female</td>\n",
       "      <td>26.0</td>\n",
       "      <td>0</td>\n",
       "      <td>0</td>\n",
       "      <td>STON/O2. 3101282</td>\n",
       "      <td>7.9250</td>\n",
       "      <td>NaN</td>\n",
       "      <td>S</td>\n",
       "    </tr>\n",
       "    <tr>\n",
       "      <th>3</th>\n",
       "      <td>4</td>\n",
       "      <td>1</td>\n",
       "      <td>1</td>\n",
       "      <td>Futrelle, Mrs. Jacques Heath (Lily May Peel)</td>\n",
       "      <td>female</td>\n",
       "      <td>35.0</td>\n",
       "      <td>1</td>\n",
       "      <td>0</td>\n",
       "      <td>113803</td>\n",
       "      <td>53.1000</td>\n",
       "      <td>C123</td>\n",
       "      <td>S</td>\n",
       "    </tr>\n",
       "    <tr>\n",
       "      <th>4</th>\n",
       "      <td>5</td>\n",
       "      <td>0</td>\n",
       "      <td>3</td>\n",
       "      <td>Allen, Mr. William Henry</td>\n",
       "      <td>male</td>\n",
       "      <td>35.0</td>\n",
       "      <td>0</td>\n",
       "      <td>0</td>\n",
       "      <td>373450</td>\n",
       "      <td>8.0500</td>\n",
       "      <td>NaN</td>\n",
       "      <td>S</td>\n",
       "    </tr>\n",
       "  </tbody>\n",
       "</table>\n",
       "</div>"
      ],
      "text/plain": [
       "   PassengerId  Survived  Pclass  \\\n",
       "0            1         0       3   \n",
       "1            2         1       1   \n",
       "2            3         1       3   \n",
       "3            4         1       1   \n",
       "4            5         0       3   \n",
       "\n",
       "                                                Name     Sex   Age  SibSp  \\\n",
       "0                            Braund, Mr. Owen Harris    male  22.0      1   \n",
       "1  Cumings, Mrs. John Bradley (Florence Briggs Th...  female  38.0      1   \n",
       "2                             Heikkinen, Miss. Laina  female  26.0      0   \n",
       "3       Futrelle, Mrs. Jacques Heath (Lily May Peel)  female  35.0      1   \n",
       "4                           Allen, Mr. William Henry    male  35.0      0   \n",
       "\n",
       "   Parch            Ticket     Fare Cabin Embarked  \n",
       "0      0         A/5 21171   7.2500   NaN        S  \n",
       "1      0          PC 17599  71.2833   C85        C  \n",
       "2      0  STON/O2. 3101282   7.9250   NaN        S  \n",
       "3      0            113803  53.1000  C123        S  \n",
       "4      0            373450   8.0500   NaN        S  "
      ]
     },
     "execution_count": 2,
     "metadata": {},
     "output_type": "execute_result"
    }
   ],
   "source": [
    "train=pd.read_csv(\"trainfsm.csv\")\n",
    "train.head()"
   ]
  },
  {
   "cell_type": "code",
   "execution_count": 3,
   "id": "9f7ac395",
   "metadata": {},
   "outputs": [
    {
     "data": {
      "text/html": [
       "<div>\n",
       "<style scoped>\n",
       "    .dataframe tbody tr th:only-of-type {\n",
       "        vertical-align: middle;\n",
       "    }\n",
       "\n",
       "    .dataframe tbody tr th {\n",
       "        vertical-align: top;\n",
       "    }\n",
       "\n",
       "    .dataframe thead th {\n",
       "        text-align: right;\n",
       "    }\n",
       "</style>\n",
       "<table border=\"1\" class=\"dataframe\">\n",
       "  <thead>\n",
       "    <tr style=\"text-align: right;\">\n",
       "      <th></th>\n",
       "      <th>PassengerId</th>\n",
       "      <th>Pclass</th>\n",
       "      <th>Name</th>\n",
       "      <th>Sex</th>\n",
       "      <th>Age</th>\n",
       "      <th>SibSp</th>\n",
       "      <th>Parch</th>\n",
       "      <th>Ticket</th>\n",
       "      <th>Fare</th>\n",
       "      <th>Cabin</th>\n",
       "      <th>Embarked</th>\n",
       "    </tr>\n",
       "  </thead>\n",
       "  <tbody>\n",
       "    <tr>\n",
       "      <th>0</th>\n",
       "      <td>892</td>\n",
       "      <td>3</td>\n",
       "      <td>Kelly, Mr. James</td>\n",
       "      <td>male</td>\n",
       "      <td>34.5</td>\n",
       "      <td>0</td>\n",
       "      <td>0</td>\n",
       "      <td>330911</td>\n",
       "      <td>7.8292</td>\n",
       "      <td>NaN</td>\n",
       "      <td>Q</td>\n",
       "    </tr>\n",
       "    <tr>\n",
       "      <th>1</th>\n",
       "      <td>893</td>\n",
       "      <td>3</td>\n",
       "      <td>Wilkes, Mrs. James (Ellen Needs)</td>\n",
       "      <td>female</td>\n",
       "      <td>47.0</td>\n",
       "      <td>1</td>\n",
       "      <td>0</td>\n",
       "      <td>363272</td>\n",
       "      <td>7.0000</td>\n",
       "      <td>NaN</td>\n",
       "      <td>S</td>\n",
       "    </tr>\n",
       "    <tr>\n",
       "      <th>2</th>\n",
       "      <td>894</td>\n",
       "      <td>2</td>\n",
       "      <td>Myles, Mr. Thomas Francis</td>\n",
       "      <td>male</td>\n",
       "      <td>62.0</td>\n",
       "      <td>0</td>\n",
       "      <td>0</td>\n",
       "      <td>240276</td>\n",
       "      <td>9.6875</td>\n",
       "      <td>NaN</td>\n",
       "      <td>Q</td>\n",
       "    </tr>\n",
       "    <tr>\n",
       "      <th>3</th>\n",
       "      <td>895</td>\n",
       "      <td>3</td>\n",
       "      <td>Wirz, Mr. Albert</td>\n",
       "      <td>male</td>\n",
       "      <td>27.0</td>\n",
       "      <td>0</td>\n",
       "      <td>0</td>\n",
       "      <td>315154</td>\n",
       "      <td>8.6625</td>\n",
       "      <td>NaN</td>\n",
       "      <td>S</td>\n",
       "    </tr>\n",
       "    <tr>\n",
       "      <th>4</th>\n",
       "      <td>896</td>\n",
       "      <td>3</td>\n",
       "      <td>Hirvonen, Mrs. Alexander (Helga E Lindqvist)</td>\n",
       "      <td>female</td>\n",
       "      <td>22.0</td>\n",
       "      <td>1</td>\n",
       "      <td>1</td>\n",
       "      <td>3101298</td>\n",
       "      <td>12.2875</td>\n",
       "      <td>NaN</td>\n",
       "      <td>S</td>\n",
       "    </tr>\n",
       "  </tbody>\n",
       "</table>\n",
       "</div>"
      ],
      "text/plain": [
       "   PassengerId  Pclass                                          Name     Sex  \\\n",
       "0          892       3                              Kelly, Mr. James    male   \n",
       "1          893       3              Wilkes, Mrs. James (Ellen Needs)  female   \n",
       "2          894       2                     Myles, Mr. Thomas Francis    male   \n",
       "3          895       3                              Wirz, Mr. Albert    male   \n",
       "4          896       3  Hirvonen, Mrs. Alexander (Helga E Lindqvist)  female   \n",
       "\n",
       "    Age  SibSp  Parch   Ticket     Fare Cabin Embarked  \n",
       "0  34.5      0      0   330911   7.8292   NaN        Q  \n",
       "1  47.0      1      0   363272   7.0000   NaN        S  \n",
       "2  62.0      0      0   240276   9.6875   NaN        Q  \n",
       "3  27.0      0      0   315154   8.6625   NaN        S  \n",
       "4  22.0      1      1  3101298  12.2875   NaN        S  "
      ]
     },
     "execution_count": 3,
     "metadata": {},
     "output_type": "execute_result"
    }
   ],
   "source": [
    "test=pd.read_csv(\"test.csv\")\n",
    "test.head()\n"
   ]
  },
  {
   "cell_type": "markdown",
   "id": "2d81c1ce",
   "metadata": {},
   "source": [
    "check the shape of the both datasets"
   ]
  },
  {
   "cell_type": "code",
   "execution_count": 4,
   "id": "073fb7f1",
   "metadata": {},
   "outputs": [
    {
     "data": {
      "text/plain": [
       "((891, 12), (418, 11))"
      ]
     },
     "execution_count": 4,
     "metadata": {},
     "output_type": "execute_result"
    }
   ],
   "source": [
    "train.shape,test.shape"
   ]
  },
  {
   "cell_type": "markdown",
   "id": "02e0bd5e",
   "metadata": {},
   "source": [
    "check for null values in the data"
   ]
  },
  {
   "cell_type": "code",
   "execution_count": 5,
   "id": "1aedb834",
   "metadata": {},
   "outputs": [
    {
     "data": {
      "text/plain": [
       "PassengerId      0\n",
       "Survived         0\n",
       "Pclass           0\n",
       "Name             0\n",
       "Sex              0\n",
       "Age            177\n",
       "SibSp            0\n",
       "Parch            0\n",
       "Ticket           0\n",
       "Fare             0\n",
       "Cabin          687\n",
       "Embarked         2\n",
       "dtype: int64"
      ]
     },
     "execution_count": 5,
     "metadata": {},
     "output_type": "execute_result"
    }
   ],
   "source": [
    "train.isnull().sum()"
   ]
  },
  {
   "cell_type": "code",
   "execution_count": 6,
   "id": "e5ac82d9",
   "metadata": {},
   "outputs": [
    {
     "data": {
      "text/plain": [
       "PassengerId      0\n",
       "Pclass           0\n",
       "Name             0\n",
       "Sex              0\n",
       "Age             86\n",
       "SibSp            0\n",
       "Parch            0\n",
       "Ticket           0\n",
       "Fare             1\n",
       "Cabin          327\n",
       "Embarked         0\n",
       "dtype: int64"
      ]
     },
     "execution_count": 6,
     "metadata": {},
     "output_type": "execute_result"
    }
   ],
   "source": [
    "test.isnull().sum()"
   ]
  },
  {
   "cell_type": "markdown",
   "id": "f2569309",
   "metadata": {},
   "source": [
    "fill the missing data with standard deviation values"
   ]
  },
  {
   "cell_type": "code",
   "execution_count": 7,
   "id": "fc5c0d71",
   "metadata": {},
   "outputs": [],
   "source": [
    "female = train.loc[train['Sex'] == 'female', 'Age'].std()\n",
    "male = train.loc[train['Sex'] == 'male', 'Age'].std()\n",
    "\n",
    "# filling missing values in 'Age' column based on gender\n",
    "train.loc[(train['Sex'] == 'female') & (train['Age'].isnull()), 'Age'] = female\n",
    "train.loc[(train['Sex'] == 'male') & (train['Age'].isnull()), 'Age'] = male\n",
    "test.loc[(test['Sex'] == 'female') & (test['Age'].isnull()), 'Age'] = female\n",
    "test.loc[(test['Sex'] == 'male') & (test['Age'].isnull()), 'Age'] = male\n",
    "test['Fare'] = test['Fare'].fillna(test['Fare'].std())"
   ]
  },
  {
   "cell_type": "markdown",
   "id": "8dfe9d4a",
   "metadata": {},
   "source": [
    "Now verify the null values"
   ]
  },
  {
   "cell_type": "code",
   "execution_count": 8,
   "id": "87c9c0ed",
   "metadata": {},
   "outputs": [
    {
     "data": {
      "text/plain": [
       "(PassengerId      0\n",
       " Survived         0\n",
       " Pclass           0\n",
       " Name             0\n",
       " Sex              0\n",
       " Age              0\n",
       " SibSp            0\n",
       " Parch            0\n",
       " Ticket           0\n",
       " Fare             0\n",
       " Cabin          687\n",
       " Embarked         2\n",
       " dtype: int64,\n",
       " PassengerId      0\n",
       " Pclass           0\n",
       " Name             0\n",
       " Sex              0\n",
       " Age              0\n",
       " SibSp            0\n",
       " Parch            0\n",
       " Ticket           0\n",
       " Fare             0\n",
       " Cabin          327\n",
       " Embarked         0\n",
       " dtype: int64)"
      ]
     },
     "execution_count": 8,
     "metadata": {},
     "output_type": "execute_result"
    }
   ],
   "source": [
    "train.isnull().sum(),test.isnull().sum()"
   ]
  },
  {
   "cell_type": "markdown",
   "id": "58ae8753",
   "metadata": {},
   "source": [
    "combine the SibSp(siblings),Parch(parents) columns into family column"
   ]
  },
  {
   "cell_type": "code",
   "execution_count": 9,
   "id": "89015624",
   "metadata": {},
   "outputs": [],
   "source": [
    "train['Family']=train['SibSp']+train['Parch']\n",
    "del train['SibSp']\n",
    "del train['Parch']"
   ]
  },
  {
   "cell_type": "code",
   "execution_count": 10,
   "id": "f0acc53f",
   "metadata": {},
   "outputs": [],
   "source": [
    "test['Family']=test['SibSp']+test['Parch']\n",
    "del test['SibSp']\n",
    "del test['Parch']\n"
   ]
  },
  {
   "cell_type": "markdown",
   "id": "69d0cee9",
   "metadata": {},
   "source": [
    "Drop the unwanted columns in the data"
   ]
  },
  {
   "cell_type": "code",
   "execution_count": 12,
   "id": "f136c67e",
   "metadata": {},
   "outputs": [
    {
     "data": {
      "text/html": [
       "<div>\n",
       "<style scoped>\n",
       "    .dataframe tbody tr th:only-of-type {\n",
       "        vertical-align: middle;\n",
       "    }\n",
       "\n",
       "    .dataframe tbody tr th {\n",
       "        vertical-align: top;\n",
       "    }\n",
       "\n",
       "    .dataframe thead th {\n",
       "        text-align: right;\n",
       "    }\n",
       "</style>\n",
       "<table border=\"1\" class=\"dataframe\">\n",
       "  <thead>\n",
       "    <tr style=\"text-align: right;\">\n",
       "      <th></th>\n",
       "      <th>Survived</th>\n",
       "      <th>Pclass</th>\n",
       "      <th>Sex</th>\n",
       "      <th>Age</th>\n",
       "      <th>Fare</th>\n",
       "      <th>Embarked</th>\n",
       "      <th>Family</th>\n",
       "    </tr>\n",
       "  </thead>\n",
       "  <tbody>\n",
       "    <tr>\n",
       "      <th>0</th>\n",
       "      <td>0</td>\n",
       "      <td>3</td>\n",
       "      <td>male</td>\n",
       "      <td>22.0</td>\n",
       "      <td>7.2500</td>\n",
       "      <td>S</td>\n",
       "      <td>1</td>\n",
       "    </tr>\n",
       "    <tr>\n",
       "      <th>1</th>\n",
       "      <td>1</td>\n",
       "      <td>1</td>\n",
       "      <td>female</td>\n",
       "      <td>38.0</td>\n",
       "      <td>71.2833</td>\n",
       "      <td>C</td>\n",
       "      <td>1</td>\n",
       "    </tr>\n",
       "    <tr>\n",
       "      <th>2</th>\n",
       "      <td>1</td>\n",
       "      <td>3</td>\n",
       "      <td>female</td>\n",
       "      <td>26.0</td>\n",
       "      <td>7.9250</td>\n",
       "      <td>S</td>\n",
       "      <td>0</td>\n",
       "    </tr>\n",
       "    <tr>\n",
       "      <th>3</th>\n",
       "      <td>1</td>\n",
       "      <td>1</td>\n",
       "      <td>female</td>\n",
       "      <td>35.0</td>\n",
       "      <td>53.1000</td>\n",
       "      <td>S</td>\n",
       "      <td>1</td>\n",
       "    </tr>\n",
       "    <tr>\n",
       "      <th>4</th>\n",
       "      <td>0</td>\n",
       "      <td>3</td>\n",
       "      <td>male</td>\n",
       "      <td>35.0</td>\n",
       "      <td>8.0500</td>\n",
       "      <td>S</td>\n",
       "      <td>0</td>\n",
       "    </tr>\n",
       "  </tbody>\n",
       "</table>\n",
       "</div>"
      ],
      "text/plain": [
       "   Survived  Pclass     Sex   Age     Fare Embarked  Family\n",
       "0         0       3    male  22.0   7.2500        S       1\n",
       "1         1       1  female  38.0  71.2833        C       1\n",
       "2         1       3  female  26.0   7.9250        S       0\n",
       "3         1       1  female  35.0  53.1000        S       1\n",
       "4         0       3    male  35.0   8.0500        S       0"
      ]
     },
     "execution_count": 12,
     "metadata": {},
     "output_type": "execute_result"
    }
   ],
   "source": [
    "train=train.drop(['Ticket','Cabin','Name','PassengerId'],axis=1)\n",
    "train.head()"
   ]
  },
  {
   "cell_type": "code",
   "execution_count": 13,
   "id": "2c2e03f4",
   "metadata": {},
   "outputs": [
    {
     "data": {
      "text/html": [
       "<div>\n",
       "<style scoped>\n",
       "    .dataframe tbody tr th:only-of-type {\n",
       "        vertical-align: middle;\n",
       "    }\n",
       "\n",
       "    .dataframe tbody tr th {\n",
       "        vertical-align: top;\n",
       "    }\n",
       "\n",
       "    .dataframe thead th {\n",
       "        text-align: right;\n",
       "    }\n",
       "</style>\n",
       "<table border=\"1\" class=\"dataframe\">\n",
       "  <thead>\n",
       "    <tr style=\"text-align: right;\">\n",
       "      <th></th>\n",
       "      <th>Pclass</th>\n",
       "      <th>Sex</th>\n",
       "      <th>Age</th>\n",
       "      <th>Fare</th>\n",
       "      <th>Embarked</th>\n",
       "      <th>Family</th>\n",
       "    </tr>\n",
       "  </thead>\n",
       "  <tbody>\n",
       "    <tr>\n",
       "      <th>0</th>\n",
       "      <td>3</td>\n",
       "      <td>male</td>\n",
       "      <td>34.5</td>\n",
       "      <td>7.8292</td>\n",
       "      <td>Q</td>\n",
       "      <td>0</td>\n",
       "    </tr>\n",
       "    <tr>\n",
       "      <th>1</th>\n",
       "      <td>3</td>\n",
       "      <td>female</td>\n",
       "      <td>47.0</td>\n",
       "      <td>7.0000</td>\n",
       "      <td>S</td>\n",
       "      <td>1</td>\n",
       "    </tr>\n",
       "    <tr>\n",
       "      <th>2</th>\n",
       "      <td>2</td>\n",
       "      <td>male</td>\n",
       "      <td>62.0</td>\n",
       "      <td>9.6875</td>\n",
       "      <td>Q</td>\n",
       "      <td>0</td>\n",
       "    </tr>\n",
       "    <tr>\n",
       "      <th>3</th>\n",
       "      <td>3</td>\n",
       "      <td>male</td>\n",
       "      <td>27.0</td>\n",
       "      <td>8.6625</td>\n",
       "      <td>S</td>\n",
       "      <td>0</td>\n",
       "    </tr>\n",
       "    <tr>\n",
       "      <th>4</th>\n",
       "      <td>3</td>\n",
       "      <td>female</td>\n",
       "      <td>22.0</td>\n",
       "      <td>12.2875</td>\n",
       "      <td>S</td>\n",
       "      <td>2</td>\n",
       "    </tr>\n",
       "  </tbody>\n",
       "</table>\n",
       "</div>"
      ],
      "text/plain": [
       "   Pclass     Sex   Age     Fare Embarked  Family\n",
       "0       3    male  34.5   7.8292        Q       0\n",
       "1       3  female  47.0   7.0000        S       1\n",
       "2       2    male  62.0   9.6875        Q       0\n",
       "3       3    male  27.0   8.6625        S       0\n",
       "4       3  female  22.0  12.2875        S       2"
      ]
     },
     "execution_count": 13,
     "metadata": {},
     "output_type": "execute_result"
    }
   ],
   "source": [
    "test=test.drop(['Ticket','Cabin','Name','PassengerId'],axis=1)\n",
    "test.head()"
   ]
  },
  {
   "cell_type": "markdown",
   "id": "841771bc",
   "metadata": {},
   "source": [
    "convert the categorical values into integers using LabelEncoder"
   ]
  },
  {
   "cell_type": "code",
   "execution_count": 14,
   "id": "740a8bc1",
   "metadata": {},
   "outputs": [],
   "source": [
    "class LabelEncoder:\n",
    "    def __init__(self):\n",
    "        self.mapping = {}\n",
    "    \n",
    "    def fit(self, y):\n",
    "        unique_labels = set(y)\n",
    "        for i, label in enumerate(unique_labels):\n",
    "            self.mapping[label] = i\n",
    "    \n",
    "    def transform(self, y):\n",
    "        encoded_labels = []\n",
    "        for label in y:\n",
    "            encoded_labels.append(self.mapping[label])\n",
    "        return encoded_labels\n",
    "    \n",
    "    def fit_transform(self, y):\n",
    "        self.fit(y)\n",
    "        return self.transform(y)"
   ]
  },
  {
   "cell_type": "code",
   "execution_count": 15,
   "id": "023e20e3",
   "metadata": {},
   "outputs": [],
   "source": [
    "label_sex = LabelEncoder()\n",
    "label_embark = LabelEncoder()\n",
    "train['Sex'] = label_sex.fit_transform(train['Sex'])\n",
    "train['Embarked'] = label_embark.fit_transform(train['Embarked'])\n",
    "test['Sex'] = label_sex.fit_transform(test['Sex'])\n",
    "test['Embarked'] = label_embark.fit_transform(test['Embarked'])"
   ]
  },
  {
   "cell_type": "code",
   "execution_count": 16,
   "id": "55c4d1c5",
   "metadata": {},
   "outputs": [
    {
     "data": {
      "text/html": [
       "<div>\n",
       "<style scoped>\n",
       "    .dataframe tbody tr th:only-of-type {\n",
       "        vertical-align: middle;\n",
       "    }\n",
       "\n",
       "    .dataframe tbody tr th {\n",
       "        vertical-align: top;\n",
       "    }\n",
       "\n",
       "    .dataframe thead th {\n",
       "        text-align: right;\n",
       "    }\n",
       "</style>\n",
       "<table border=\"1\" class=\"dataframe\">\n",
       "  <thead>\n",
       "    <tr style=\"text-align: right;\">\n",
       "      <th></th>\n",
       "      <th>Survived</th>\n",
       "      <th>Pclass</th>\n",
       "      <th>Sex</th>\n",
       "      <th>Age</th>\n",
       "      <th>Fare</th>\n",
       "      <th>Embarked</th>\n",
       "      <th>Family</th>\n",
       "    </tr>\n",
       "  </thead>\n",
       "  <tbody>\n",
       "    <tr>\n",
       "      <th>0</th>\n",
       "      <td>0</td>\n",
       "      <td>3</td>\n",
       "      <td>1</td>\n",
       "      <td>22.0</td>\n",
       "      <td>7.2500</td>\n",
       "      <td>2</td>\n",
       "      <td>1</td>\n",
       "    </tr>\n",
       "    <tr>\n",
       "      <th>1</th>\n",
       "      <td>1</td>\n",
       "      <td>1</td>\n",
       "      <td>0</td>\n",
       "      <td>38.0</td>\n",
       "      <td>71.2833</td>\n",
       "      <td>0</td>\n",
       "      <td>1</td>\n",
       "    </tr>\n",
       "    <tr>\n",
       "      <th>2</th>\n",
       "      <td>1</td>\n",
       "      <td>3</td>\n",
       "      <td>0</td>\n",
       "      <td>26.0</td>\n",
       "      <td>7.9250</td>\n",
       "      <td>2</td>\n",
       "      <td>0</td>\n",
       "    </tr>\n",
       "    <tr>\n",
       "      <th>3</th>\n",
       "      <td>1</td>\n",
       "      <td>1</td>\n",
       "      <td>0</td>\n",
       "      <td>35.0</td>\n",
       "      <td>53.1000</td>\n",
       "      <td>2</td>\n",
       "      <td>1</td>\n",
       "    </tr>\n",
       "    <tr>\n",
       "      <th>4</th>\n",
       "      <td>0</td>\n",
       "      <td>3</td>\n",
       "      <td>1</td>\n",
       "      <td>35.0</td>\n",
       "      <td>8.0500</td>\n",
       "      <td>2</td>\n",
       "      <td>0</td>\n",
       "    </tr>\n",
       "  </tbody>\n",
       "</table>\n",
       "</div>"
      ],
      "text/plain": [
       "   Survived  Pclass  Sex   Age     Fare  Embarked  Family\n",
       "0         0       3    1  22.0   7.2500         2       1\n",
       "1         1       1    0  38.0  71.2833         0       1\n",
       "2         1       3    0  26.0   7.9250         2       0\n",
       "3         1       1    0  35.0  53.1000         2       1\n",
       "4         0       3    1  35.0   8.0500         2       0"
      ]
     },
     "execution_count": 16,
     "metadata": {},
     "output_type": "execute_result"
    }
   ],
   "source": [
    "train.head()"
   ]
  },
  {
   "cell_type": "code",
   "execution_count": 17,
   "id": "8cdb4d94",
   "metadata": {},
   "outputs": [
    {
     "data": {
      "text/html": [
       "<div>\n",
       "<style scoped>\n",
       "    .dataframe tbody tr th:only-of-type {\n",
       "        vertical-align: middle;\n",
       "    }\n",
       "\n",
       "    .dataframe tbody tr th {\n",
       "        vertical-align: top;\n",
       "    }\n",
       "\n",
       "    .dataframe thead th {\n",
       "        text-align: right;\n",
       "    }\n",
       "</style>\n",
       "<table border=\"1\" class=\"dataframe\">\n",
       "  <thead>\n",
       "    <tr style=\"text-align: right;\">\n",
       "      <th></th>\n",
       "      <th>Pclass</th>\n",
       "      <th>Sex</th>\n",
       "      <th>Age</th>\n",
       "      <th>Fare</th>\n",
       "      <th>Embarked</th>\n",
       "      <th>Family</th>\n",
       "    </tr>\n",
       "  </thead>\n",
       "  <tbody>\n",
       "    <tr>\n",
       "      <th>0</th>\n",
       "      <td>3</td>\n",
       "      <td>1</td>\n",
       "      <td>34.5</td>\n",
       "      <td>7.8292</td>\n",
       "      <td>1</td>\n",
       "      <td>0</td>\n",
       "    </tr>\n",
       "    <tr>\n",
       "      <th>1</th>\n",
       "      <td>3</td>\n",
       "      <td>0</td>\n",
       "      <td>47.0</td>\n",
       "      <td>7.0000</td>\n",
       "      <td>2</td>\n",
       "      <td>1</td>\n",
       "    </tr>\n",
       "    <tr>\n",
       "      <th>2</th>\n",
       "      <td>2</td>\n",
       "      <td>1</td>\n",
       "      <td>62.0</td>\n",
       "      <td>9.6875</td>\n",
       "      <td>1</td>\n",
       "      <td>0</td>\n",
       "    </tr>\n",
       "    <tr>\n",
       "      <th>3</th>\n",
       "      <td>3</td>\n",
       "      <td>1</td>\n",
       "      <td>27.0</td>\n",
       "      <td>8.6625</td>\n",
       "      <td>2</td>\n",
       "      <td>0</td>\n",
       "    </tr>\n",
       "    <tr>\n",
       "      <th>4</th>\n",
       "      <td>3</td>\n",
       "      <td>0</td>\n",
       "      <td>22.0</td>\n",
       "      <td>12.2875</td>\n",
       "      <td>2</td>\n",
       "      <td>2</td>\n",
       "    </tr>\n",
       "  </tbody>\n",
       "</table>\n",
       "</div>"
      ],
      "text/plain": [
       "   Pclass  Sex   Age     Fare  Embarked  Family\n",
       "0       3    1  34.5   7.8292         1       0\n",
       "1       3    0  47.0   7.0000         2       1\n",
       "2       2    1  62.0   9.6875         1       0\n",
       "3       3    1  27.0   8.6625         2       0\n",
       "4       3    0  22.0  12.2875         2       2"
      ]
     },
     "execution_count": 17,
     "metadata": {},
     "output_type": "execute_result"
    }
   ],
   "source": [
    "test.head()"
   ]
  },
  {
   "cell_type": "markdown",
   "id": "2b038531",
   "metadata": {},
   "source": [
    "information of datasets"
   ]
  },
  {
   "cell_type": "code",
   "execution_count": 19,
   "id": "6ad4d28f",
   "metadata": {},
   "outputs": [
    {
     "name": "stdout",
     "output_type": "stream",
     "text": [
      "<class 'pandas.core.frame.DataFrame'>\n",
      "RangeIndex: 891 entries, 0 to 890\n",
      "Data columns (total 7 columns):\n",
      " #   Column    Non-Null Count  Dtype  \n",
      "---  ------    --------------  -----  \n",
      " 0   Survived  891 non-null    int64  \n",
      " 1   Pclass    891 non-null    int64  \n",
      " 2   Sex       891 non-null    int64  \n",
      " 3   Age       891 non-null    float64\n",
      " 4   Fare      891 non-null    float64\n",
      " 5   Embarked  891 non-null    int64  \n",
      " 6   Family    891 non-null    int64  \n",
      "dtypes: float64(2), int64(5)\n",
      "memory usage: 48.9 KB\n",
      "<class 'pandas.core.frame.DataFrame'>\n",
      "RangeIndex: 418 entries, 0 to 417\n",
      "Data columns (total 6 columns):\n",
      " #   Column    Non-Null Count  Dtype  \n",
      "---  ------    --------------  -----  \n",
      " 0   Pclass    418 non-null    int64  \n",
      " 1   Sex       418 non-null    int64  \n",
      " 2   Age       418 non-null    float64\n",
      " 3   Fare      418 non-null    float64\n",
      " 4   Embarked  418 non-null    int64  \n",
      " 5   Family    418 non-null    int64  \n",
      "dtypes: float64(2), int64(4)\n",
      "memory usage: 19.7 KB\n"
     ]
    },
    {
     "data": {
      "text/plain": [
       "(None, None)"
      ]
     },
     "execution_count": 19,
     "metadata": {},
     "output_type": "execute_result"
    }
   ],
   "source": [
    "train.info(),test.info()"
   ]
  },
  {
   "cell_type": "markdown",
   "id": "fc1a42fd",
   "metadata": {},
   "source": [
    "check the correlation between features"
   ]
  },
  {
   "cell_type": "code",
   "execution_count": 20,
   "id": "f735cde3",
   "metadata": {},
   "outputs": [
    {
     "data": {
      "text/html": [
       "<div>\n",
       "<style scoped>\n",
       "    .dataframe tbody tr th:only-of-type {\n",
       "        vertical-align: middle;\n",
       "    }\n",
       "\n",
       "    .dataframe tbody tr th {\n",
       "        vertical-align: top;\n",
       "    }\n",
       "\n",
       "    .dataframe thead th {\n",
       "        text-align: right;\n",
       "    }\n",
       "</style>\n",
       "<table border=\"1\" class=\"dataframe\">\n",
       "  <thead>\n",
       "    <tr style=\"text-align: right;\">\n",
       "      <th></th>\n",
       "      <th>Survived</th>\n",
       "      <th>Pclass</th>\n",
       "      <th>Sex</th>\n",
       "      <th>Age</th>\n",
       "      <th>Fare</th>\n",
       "      <th>Embarked</th>\n",
       "      <th>Family</th>\n",
       "    </tr>\n",
       "  </thead>\n",
       "  <tbody>\n",
       "    <tr>\n",
       "      <th>Survived</th>\n",
       "      <td>1.000000</td>\n",
       "      <td>-0.338481</td>\n",
       "      <td>-0.543351</td>\n",
       "      <td>-0.026161</td>\n",
       "      <td>0.257307</td>\n",
       "      <td>-0.163517</td>\n",
       "      <td>0.016639</td>\n",
       "    </tr>\n",
       "    <tr>\n",
       "      <th>Pclass</th>\n",
       "      <td>-0.338481</td>\n",
       "      <td>1.000000</td>\n",
       "      <td>0.131900</td>\n",
       "      <td>-0.373436</td>\n",
       "      <td>-0.549500</td>\n",
       "      <td>0.157112</td>\n",
       "      <td>0.065997</td>\n",
       "    </tr>\n",
       "    <tr>\n",
       "      <th>Sex</th>\n",
       "      <td>-0.543351</td>\n",
       "      <td>0.131900</td>\n",
       "      <td>1.000000</td>\n",
       "      <td>0.056380</td>\n",
       "      <td>-0.182333</td>\n",
       "      <td>0.104057</td>\n",
       "      <td>-0.200988</td>\n",
       "    </tr>\n",
       "    <tr>\n",
       "      <th>Age</th>\n",
       "      <td>-0.026161</td>\n",
       "      <td>-0.373436</td>\n",
       "      <td>0.056380</td>\n",
       "      <td>1.000000</td>\n",
       "      <td>0.125214</td>\n",
       "      <td>0.045377</td>\n",
       "      <td>-0.205321</td>\n",
       "    </tr>\n",
       "    <tr>\n",
       "      <th>Fare</th>\n",
       "      <td>0.257307</td>\n",
       "      <td>-0.549500</td>\n",
       "      <td>-0.182333</td>\n",
       "      <td>0.125214</td>\n",
       "      <td>1.000000</td>\n",
       "      <td>-0.221226</td>\n",
       "      <td>0.217138</td>\n",
       "    </tr>\n",
       "    <tr>\n",
       "      <th>Embarked</th>\n",
       "      <td>-0.163517</td>\n",
       "      <td>0.157112</td>\n",
       "      <td>0.104057</td>\n",
       "      <td>0.045377</td>\n",
       "      <td>-0.221226</td>\n",
       "      <td>1.000000</td>\n",
       "      <td>0.064701</td>\n",
       "    </tr>\n",
       "    <tr>\n",
       "      <th>Family</th>\n",
       "      <td>0.016639</td>\n",
       "      <td>0.065997</td>\n",
       "      <td>-0.200988</td>\n",
       "      <td>-0.205321</td>\n",
       "      <td>0.217138</td>\n",
       "      <td>0.064701</td>\n",
       "      <td>1.000000</td>\n",
       "    </tr>\n",
       "  </tbody>\n",
       "</table>\n",
       "</div>"
      ],
      "text/plain": [
       "          Survived    Pclass       Sex       Age      Fare  Embarked    Family\n",
       "Survived  1.000000 -0.338481 -0.543351 -0.026161  0.257307 -0.163517  0.016639\n",
       "Pclass   -0.338481  1.000000  0.131900 -0.373436 -0.549500  0.157112  0.065997\n",
       "Sex      -0.543351  0.131900  1.000000  0.056380 -0.182333  0.104057 -0.200988\n",
       "Age      -0.026161 -0.373436  0.056380  1.000000  0.125214  0.045377 -0.205321\n",
       "Fare      0.257307 -0.549500 -0.182333  0.125214  1.000000 -0.221226  0.217138\n",
       "Embarked -0.163517  0.157112  0.104057  0.045377 -0.221226  1.000000  0.064701\n",
       "Family    0.016639  0.065997 -0.200988 -0.205321  0.217138  0.064701  1.000000"
      ]
     },
     "execution_count": 20,
     "metadata": {},
     "output_type": "execute_result"
    }
   ],
   "source": [
    "train.corr()"
   ]
  },
  {
   "cell_type": "code",
   "execution_count": 21,
   "id": "b3169f04",
   "metadata": {},
   "outputs": [
    {
     "data": {
      "text/html": [
       "<div>\n",
       "<style scoped>\n",
       "    .dataframe tbody tr th:only-of-type {\n",
       "        vertical-align: middle;\n",
       "    }\n",
       "\n",
       "    .dataframe tbody tr th {\n",
       "        vertical-align: top;\n",
       "    }\n",
       "\n",
       "    .dataframe thead th {\n",
       "        text-align: right;\n",
       "    }\n",
       "</style>\n",
       "<table border=\"1\" class=\"dataframe\">\n",
       "  <thead>\n",
       "    <tr style=\"text-align: right;\">\n",
       "      <th></th>\n",
       "      <th>Pclass</th>\n",
       "      <th>Sex</th>\n",
       "      <th>Age</th>\n",
       "      <th>Fare</th>\n",
       "      <th>Embarked</th>\n",
       "      <th>Family</th>\n",
       "    </tr>\n",
       "  </thead>\n",
       "  <tbody>\n",
       "    <tr>\n",
       "      <th>Pclass</th>\n",
       "      <td>1.000000</td>\n",
       "      <td>0.108615</td>\n",
       "      <td>-0.521052</td>\n",
       "      <td>-0.575768</td>\n",
       "      <td>0.227983</td>\n",
       "      <td>0.012736</td>\n",
       "    </tr>\n",
       "    <tr>\n",
       "      <th>Sex</th>\n",
       "      <td>0.108615</td>\n",
       "      <td>1.000000</td>\n",
       "      <td>-0.031223</td>\n",
       "      <td>-0.190695</td>\n",
       "      <td>0.076281</td>\n",
       "      <td>-0.161803</td>\n",
       "    </tr>\n",
       "    <tr>\n",
       "      <th>Age</th>\n",
       "      <td>-0.521052</td>\n",
       "      <td>-0.031223</td>\n",
       "      <td>1.000000</td>\n",
       "      <td>0.378330</td>\n",
       "      <td>-0.101843</td>\n",
       "      <td>-0.045682</td>\n",
       "    </tr>\n",
       "    <tr>\n",
       "      <th>Fare</th>\n",
       "      <td>-0.575768</td>\n",
       "      <td>-0.190695</td>\n",
       "      <td>0.378330</td>\n",
       "      <td>1.000000</td>\n",
       "      <td>-0.256381</td>\n",
       "      <td>0.249312</td>\n",
       "    </tr>\n",
       "    <tr>\n",
       "      <th>Embarked</th>\n",
       "      <td>0.227983</td>\n",
       "      <td>0.076281</td>\n",
       "      <td>-0.101843</td>\n",
       "      <td>-0.256381</td>\n",
       "      <td>1.000000</td>\n",
       "      <td>0.066376</td>\n",
       "    </tr>\n",
       "    <tr>\n",
       "      <th>Family</th>\n",
       "      <td>0.012736</td>\n",
       "      <td>-0.161803</td>\n",
       "      <td>-0.045682</td>\n",
       "      <td>0.249312</td>\n",
       "      <td>0.066376</td>\n",
       "      <td>1.000000</td>\n",
       "    </tr>\n",
       "  </tbody>\n",
       "</table>\n",
       "</div>"
      ],
      "text/plain": [
       "            Pclass       Sex       Age      Fare  Embarked    Family\n",
       "Pclass    1.000000  0.108615 -0.521052 -0.575768  0.227983  0.012736\n",
       "Sex       0.108615  1.000000 -0.031223 -0.190695  0.076281 -0.161803\n",
       "Age      -0.521052 -0.031223  1.000000  0.378330 -0.101843 -0.045682\n",
       "Fare     -0.575768 -0.190695  0.378330  1.000000 -0.256381  0.249312\n",
       "Embarked  0.227983  0.076281 -0.101843 -0.256381  1.000000  0.066376\n",
       "Family    0.012736 -0.161803 -0.045682  0.249312  0.066376  1.000000"
      ]
     },
     "execution_count": 21,
     "metadata": {},
     "output_type": "execute_result"
    }
   ],
   "source": [
    "test.corr()"
   ]
  },
  {
   "cell_type": "markdown",
   "id": "6e92da3e",
   "metadata": {},
   "source": [
    "now seperate the Survived Column(target variable) from train dataset"
   ]
  },
  {
   "cell_type": "code",
   "execution_count": 22,
   "id": "6c667028",
   "metadata": {},
   "outputs": [],
   "source": [
    "y = train['Survived']\n",
    "del train['Survived']"
   ]
  },
  {
   "cell_type": "markdown",
   "id": "abc425f3",
   "metadata": {},
   "source": [
    "split the train dataset into train and test"
   ]
  },
  {
   "cell_type": "code",
   "execution_count": 23,
   "id": "f37da3a2",
   "metadata": {},
   "outputs": [],
   "source": [
    "def train_test_split(data, target, test_size=0.2, random_seed=None):\n",
    "    if random_seed is not None:\n",
    "        np.random.seed(random_seed)\n",
    "    \n",
    "    indices = np.arange(len(data))\n",
    "    np.random.shuffle(indices)\n",
    "    \n",
    "    split_index = int(len(data) * (1 - test_size))\n",
    "    train_indices = indices[:split_index]\n",
    "    test_indices = indices[split_index:]\n",
    "    \n",
    "    train_data = data.iloc[train_indices]\n",
    "    test_data = data.iloc[test_indices]\n",
    "    train_target = target.iloc[train_indices]\n",
    "    test_target = target.iloc[test_indices]\n",
    "    \n",
    "    return train_data, test_data, train_target, test_target\n"
   ]
  },
  {
   "cell_type": "code",
   "execution_count": 24,
   "id": "ae929bed",
   "metadata": {},
   "outputs": [],
   "source": [
    "x_train, x_test, y_train, y_test = train_test_split(train, y, test_size=0.2, random_seed=42)"
   ]
  },
  {
   "cell_type": "markdown",
   "id": "404b6379",
   "metadata": {},
   "source": [
    "create the naive_bayes model"
   ]
  },
  {
   "cell_type": "code",
   "execution_count": 25,
   "id": "62bcc48f",
   "metadata": {},
   "outputs": [],
   "source": [
    "class NaiveBayes:\n",
    "    def __init__(self):\n",
    "        self.prior = {}\n",
    "        self.conditional = {}\n",
    "\n",
    "    def fit(self, X, y):\n",
    "        self.classes = np.unique(y)\n",
    "        self.num_classes = len(self.classes)\n",
    "\n",
    "        for c in self.classes:\n",
    "            self.prior[c] = np.mean(y == c)\n",
    "\n",
    "            X_c = X[y == c]\n",
    "            self.conditional[c] = {}\n",
    "            for feature in X.columns:\n",
    "                self.conditional[c][feature] = {\n",
    "                    'mean': np.mean(X_c[feature]),\n",
    "                    'std': np.std(X_c[feature])\n",
    "                }\n",
    "\n",
    "    def predict(self, X):\n",
    "        predictions = []\n",
    "        for _, row in X.iterrows():\n",
    "            posterior = {}\n",
    "            for c in self.classes:\n",
    "                likelihood = 1\n",
    "                for feature in X.columns:\n",
    "                    mean = self.conditional[c][feature]['mean']\n",
    "                    std = self.conditional[c][feature]['std']\n",
    "                    x = row[feature]\n",
    "                    likelihood *= self.calculate_likelihood(x, mean, std)\n",
    "                posterior[c] = likelihood * self.prior[c]\n",
    "            prediction = max(posterior, key=posterior.get)\n",
    "            predictions.append(prediction)\n",
    "        return predictions\n",
    "\n",
    "    def calculate_likelihood(self, x, mean, std):\n",
    "        exponent = np.exp(-((x - mean) ** 2) / (2 * (std ** 2)))\n",
    "        likelihood = (1 / (np.sqrt(2 * np.pi) * std)) * exponent\n",
    "        return likelihood\n"
   ]
  },
  {
   "cell_type": "code",
   "execution_count": 26,
   "id": "889006d9",
   "metadata": {},
   "outputs": [],
   "source": [
    "naive_bayes = NaiveBayes()\n",
    "naive_bayes.fit(x_train, y_train) # fitting values\n",
    "predictions = naive_bayes.predict(x_test) #prediction of test date"
   ]
  },
  {
   "cell_type": "markdown",
   "id": "6f96abb9",
   "metadata": {},
   "source": [
    "calculation of acccuracy_score"
   ]
  },
  {
   "cell_type": "code",
   "execution_count": 27,
   "id": "2976f44e",
   "metadata": {},
   "outputs": [],
   "source": [
    "y_test=np.array(y_test) #converting into array data\n",
    "predictions=np.array(predictions) #converting into array data"
   ]
  },
  {
   "cell_type": "code",
   "execution_count": 28,
   "id": "4dae3496",
   "metadata": {},
   "outputs": [
    {
     "name": "stdout",
     "output_type": "stream",
     "text": [
      "Accuracy: 79.3296089385475\n"
     ]
    }
   ],
   "source": [
    "def accuracy_score(y_true, y_pred):\n",
    "    correct = 0\n",
    "    total = len(y_true)\n",
    "\n",
    "    for i in range(total):\n",
    "        if y_true[i] == y_pred[i]:\n",
    "            correct += 1\n",
    "\n",
    "    accuracy = correct / total\n",
    "    return accuracy\n",
    "\n",
    "\n",
    "accuracy = accuracy_score(y_test, predictions) * 100\n",
    "print(\"Accuracy:\", accuracy)"
   ]
  },
  {
   "cell_type": "code",
   "execution_count": 29,
   "id": "e7a63ec8",
   "metadata": {},
   "outputs": [],
   "source": [
    "naive_bayes = NaiveBayes()\n",
    "naive_bayes.fit(train, y) # fitting values\n",
    "predictions = naive_bayes.predict(test) #prediction of test date"
   ]
  },
  {
   "cell_type": "code",
   "execution_count": 30,
   "id": "781fa9f9",
   "metadata": {},
   "outputs": [
    {
     "data": {
      "text/html": [
       "<div>\n",
       "<style scoped>\n",
       "    .dataframe tbody tr th:only-of-type {\n",
       "        vertical-align: middle;\n",
       "    }\n",
       "\n",
       "    .dataframe tbody tr th {\n",
       "        vertical-align: top;\n",
       "    }\n",
       "\n",
       "    .dataframe thead th {\n",
       "        text-align: right;\n",
       "    }\n",
       "</style>\n",
       "<table border=\"1\" class=\"dataframe\">\n",
       "  <thead>\n",
       "    <tr style=\"text-align: right;\">\n",
       "      <th></th>\n",
       "      <th>Survived</th>\n",
       "    </tr>\n",
       "  </thead>\n",
       "  <tbody>\n",
       "    <tr>\n",
       "      <th>0</th>\n",
       "      <td>0</td>\n",
       "    </tr>\n",
       "    <tr>\n",
       "      <th>1</th>\n",
       "      <td>1</td>\n",
       "    </tr>\n",
       "    <tr>\n",
       "      <th>2</th>\n",
       "      <td>0</td>\n",
       "    </tr>\n",
       "    <tr>\n",
       "      <th>3</th>\n",
       "      <td>0</td>\n",
       "    </tr>\n",
       "    <tr>\n",
       "      <th>4</th>\n",
       "      <td>1</td>\n",
       "    </tr>\n",
       "  </tbody>\n",
       "</table>\n",
       "</div>"
      ],
      "text/plain": [
       "   Survived\n",
       "0         0\n",
       "1         1\n",
       "2         0\n",
       "3         0\n",
       "4         1"
      ]
     },
     "execution_count": 30,
     "metadata": {},
     "output_type": "execute_result"
    }
   ],
   "source": [
    "data=pd.read_csv(\"gender_submission.csv\")\n",
    "data=data.drop([\"PassengerId\"],axis=1)\n",
    "data.head()\n"
   ]
  },
  {
   "cell_type": "markdown",
   "id": "0855fc40",
   "metadata": {},
   "source": [
    "calculation of accuracy_score for test data and final validation dataset"
   ]
  },
  {
   "cell_type": "code",
   "execution_count": 31,
   "id": "8ad4f740",
   "metadata": {},
   "outputs": [],
   "source": [
    "data=np.array(data) #converting into array data\n",
    "predictions=np.array(predictions) #converting into array data"
   ]
  },
  {
   "cell_type": "code",
   "execution_count": 32,
   "id": "43138e4c",
   "metadata": {},
   "outputs": [
    {
     "name": "stdout",
     "output_type": "stream",
     "text": [
      "Accuracy: 89.71291866028707\n"
     ]
    }
   ],
   "source": [
    "def accuracy_score(y_true, y_pred):\n",
    "    correct = 0\n",
    "    total = len(y_true)\n",
    "\n",
    "    for i in range(total):\n",
    "        if y_true[i] == y_pred[i]:\n",
    "            correct += 1\n",
    "\n",
    "    accuracy = correct / total\n",
    "    return accuracy\n",
    "\n",
    "accuracy = accuracy_score(data, predictions) * 100\n",
    "print(\"Accuracy:\", accuracy)"
   ]
  },
  {
   "cell_type": "markdown",
   "id": "0705fafc",
   "metadata": {},
   "source": [
    "confusion matrix representation"
   ]
  },
  {
   "cell_type": "code",
   "execution_count": 33,
   "id": "4ebab15b",
   "metadata": {},
   "outputs": [
    {
     "name": "stdout",
     "output_type": "stream",
     "text": [
      "[[231  35]\n",
      " [  8 144]]\n"
     ]
    }
   ],
   "source": [
    "import numpy as np\n",
    "\n",
    "def confusion_matrix(y_true, y_pred):\n",
    "    classes = np.unique(np.concatenate((y_true, y_pred)))\n",
    "    num_classes = len(classes)\n",
    "    matrix = np.zeros((num_classes, num_classes), dtype=int)\n",
    "    \n",
    "    for i in range(len(y_true)):\n",
    "        true_label = np.where(classes == y_true[i])[0][0]\n",
    "        pred_label = np.where(classes == y_pred[i])[0][0]\n",
    "        matrix[true_label][pred_label] += 1\n",
    "    \n",
    "    return matrix\n",
    "\n",
    "y_true = np.array(data).ravel() #converting into array data\n",
    "y_pred = np.array(predictions).ravel() #converting into array data\n",
    "\n",
    "cm = confusion_matrix(y_true, y_pred)\n",
    "print(cm)\n"
   ]
  },
  {
   "cell_type": "markdown",
   "id": "4ee6c7fa",
   "metadata": {},
   "source": [
    "plotting between y_test and prediction values"
   ]
  },
  {
   "cell_type": "code",
   "execution_count": 34,
   "id": "9f735179",
   "metadata": {},
   "outputs": [
    {
     "data": {
      "image/png": "[encoded data removed]",
      "text/plain": [
       "<Figure size 640x480 with 1 Axes>"
      ]
     },
     "metadata": {},
     "output_type": "display_data"
    }
   ],
   "source": [
    "plt.scatter(range(len(y_test)), y_test, color='blue', label='Actual')\n",
    "plt.scatter(range(len(predictions)), predictions, color='red', label='Predicted')\n",
    "plt.xlabel('Data Points')\n",
    "plt.ylabel('Target Value')\n",
    "plt.title('Naive_Bayes - Actual vs Predicted')\n",
    "plt.legend()\n",
    "plt.show()"
   ]
  },
  {
   "cell_type": "markdown",
   "id": "dbc13f6f",
   "metadata": {},
   "source": [
    "plotting between validation data and prediction values"
   ]
  },
  {
   "cell_type": "code",
   "execution_count": 35,
   "id": "c5f54765",
   "metadata": {},
   "outputs": [
    {
     "data": {
      "image/png": "[encoded data removed]",
      "text/plain": [
       "<Figure size 640x480 with 1 Axes>"
      ]
     },
     "metadata": {},
     "output_type": "display_data"
    }
   ],
   "source": [
    "plt.scatter(range(len(data)), data, color='blue', label='Actual')\n",
    "plt.scatter(range(len(predictions)), predictions, color='red', label='Predicted')\n",
    "plt.xlabel('Data Points')\n",
    "plt.ylabel('Target Value')\n",
    "plt.title('Naive_Bayes - Actual vs Predicted')\n",
    "plt.legend()\n",
    "plt.show()"
   ]
  },
  {
   "cell_type": "code",
   "execution_count": null,
   "id": "f0c31d67",
   "metadata": {},
   "outputs": [],
   "source": []
  }
 ],
 "metadata": {
  "kernelspec": {
   "display_name": "Python 3 (ipykernel)",
   "language": "python",
   "name": "python3"
  },
  "language_info": {
   "codemirror_mode": {
    "name": "ipython",
    "version": 3
   },
   "file_extension": ".py",
   "mimetype": "text/x-python",
   "name": "python",
   "nbconvert_exporter": "python",
   "pygments_lexer": "ipython3",
   "version": "3.9.13"
  }
 },
 "nbformat": 4,
 "nbformat_minor": 5
}
